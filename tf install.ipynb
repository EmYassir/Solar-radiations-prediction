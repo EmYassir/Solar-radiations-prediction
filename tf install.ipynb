{
 "cells": [
  {
   "cell_type": "code",
   "execution_count": 1,
   "metadata": {},
   "outputs": [
    {
     "ename": "ModuleNotFoundError",
     "evalue": "No module named 'tensorflow'",
     "output_type": "error",
     "traceback": [
      "\u001b[0;31m---------------------------------------------------------------------------\u001b[0m",
      "\u001b[0;31mModuleNotFoundError\u001b[0m                       Traceback (most recent call last)",
      "\u001b[0;32m<ipython-input-1-64156d691fe5>\u001b[0m in \u001b[0;36m<module>\u001b[0;34m\u001b[0m\n\u001b[0;32m----> 1\u001b[0;31m \u001b[0;32mimport\u001b[0m \u001b[0mtensorflow\u001b[0m \u001b[0;32mas\u001b[0m \u001b[0mtf\u001b[0m\u001b[0;34m\u001b[0m\u001b[0;34m\u001b[0m\u001b[0m\n\u001b[0m",
      "\u001b[0;31mModuleNotFoundError\u001b[0m: No module named 'tensorflow'"
     ]
    }
   ],
   "source": []
  },
  {
   "cell_type": "code",
   "execution_count": 2,
   "metadata": {},
   "outputs": [],
   "source": [
    "# /project/glo7030/datasets/mnist/MNIST/\n",
    "\n"
   ]
  },
  {
   "cell_type": "code",
   "execution_count": 4,
   "metadata": {},
   "outputs": [
    {
     "name": "stdout",
     "output_type": "stream",
     "text": [
      "Ignoring pip: markers 'python_version < \"3\"' don't match your environment\n",
      "Looking in links: /cvmfs/soft.computecanada.ca/custom/python/wheelhouse/avx, /cvmfs/soft.computecanada.ca/custom/python/wheelhouse/generic\n",
      "Collecting tensorflow_gpu\n",
      "Collecting termcolor>=1.1.0 (from tensorflow_gpu)\n",
      "Requirement already satisfied: six>=1.10.0 in /opt/ipython-kernel/lib/python3.7/site-packages (from tensorflow_gpu) (1.13.0)\n",
      "Requirement already satisfied: google-pasta>=0.1.6 in /localscratch/guest160.680.0/lib/python3.7/site-packages (from tensorflow_gpu) (0.1.8)\n",
      "Requirement already satisfied: opt-einsum>=2.3.2 in /localscratch/guest160.680.0/lib/python3.7/site-packages (from tensorflow_gpu) (2.3.2)\n",
      "Requirement already satisfied: grpcio>=1.8.6 in /localscratch/guest160.680.0/lib/python3.7/site-packages (from tensorflow_gpu) (1.25.0)\n",
      "Collecting protobuf>=3.6.1 (from tensorflow_gpu)\n",
      "Requirement already satisfied: keras-applications>=1.0.8 in /localscratch/guest160.680.0/lib/python3.7/site-packages (from tensorflow_gpu) (1.0.8)\n",
      "Requirement already satisfied: wheel>=0.26 in /localscratch/guest160.680.0/lib/python3.7/site-packages (from tensorflow_gpu) (0.33.4)\n",
      "Requirement already satisfied: gast==0.2.2 in /localscratch/guest160.680.0/lib/python3.7/site-packages (from tensorflow_gpu) (0.2.2)\n",
      "Requirement already satisfied: tensorflow-estimator<2.1.0,>=2.0.0 in /localscratch/guest160.680.0/lib/python3.7/site-packages (from tensorflow_gpu) (2.0.1)\n",
      "Requirement already satisfied: wrapt>=1.11.1 in /localscratch/guest160.680.0/lib/python3.7/site-packages (from tensorflow_gpu) (1.11.2)\n",
      "Requirement already satisfied: numpy<2.0,>=1.16.0 in /localscratch/guest160.680.0/lib/python3.7/site-packages (from tensorflow_gpu) (1.17.4)\n",
      "Requirement already satisfied: absl-py>=0.7.0 in /localscratch/guest160.680.0/lib/python3.7/site-packages (from tensorflow_gpu) (0.7.1)\n",
      "Collecting tensorboard<2.1.0,>=2.0.0 (from tensorflow_gpu)\n",
      "Requirement already satisfied: astor>=0.6.0 in /localscratch/guest160.680.0/lib/python3.7/site-packages (from tensorflow_gpu) (0.8.1)\n",
      "Collecting keras-preprocessing>=1.0.5 (from tensorflow_gpu)\n",
      "Requirement already satisfied: setuptools in /opt/ipython-kernel/lib/python3.7/site-packages (from protobuf>=3.6.1->tensorflow_gpu) (40.8.0)\n",
      "Requirement already satisfied: h5py in /localscratch/guest160.680.0/lib/python3.7/site-packages (from keras-applications>=1.0.8->tensorflow_gpu) (2.9.0)\n",
      "Collecting google-auth<2,>=1.6.3 (from tensorboard<2.1.0,>=2.0.0->tensorflow_gpu)\n",
      "Requirement already satisfied: requests<3,>=2.21.0 in /localscratch/guest160.680.0/lib/python3.7/site-packages (from tensorboard<2.1.0,>=2.0.0->tensorflow_gpu) (2.22.0)\n",
      "Collecting google-auth-oauthlib<0.5,>=0.4.1 (from tensorboard<2.1.0,>=2.0.0->tensorflow_gpu)\n",
      "Collecting markdown>=2.6.8 (from tensorboard<2.1.0,>=2.0.0->tensorflow_gpu)\n",
      "Collecting werkzeug>=0.11.15 (from tensorboard<2.1.0,>=2.0.0->tensorflow_gpu)\n",
      "Collecting cachetools<3.2,>=2.0.0 (from google-auth<2,>=1.6.3->tensorboard<2.1.0,>=2.0.0->tensorflow_gpu)\n",
      "Collecting rsa<4.1,>=3.1.4 (from google-auth<2,>=1.6.3->tensorboard<2.1.0,>=2.0.0->tensorflow_gpu)\n",
      "Collecting pyasn1-modules>=0.2.1 (from google-auth<2,>=1.6.3->tensorboard<2.1.0,>=2.0.0->tensorflow_gpu)\n",
      "Requirement already satisfied: chardet<3.1.0,>=3.0.2 in /localscratch/guest160.680.0/lib/python3.7/site-packages (from requests<3,>=2.21.0->tensorboard<2.1.0,>=2.0.0->tensorflow_gpu) (3.0.4)\n",
      "Requirement already satisfied: idna<2.9,>=2.5 in /localscratch/guest160.680.0/lib/python3.7/site-packages (from requests<3,>=2.21.0->tensorboard<2.1.0,>=2.0.0->tensorflow_gpu) (2.8)\n",
      "Requirement already satisfied: urllib3!=1.25.0,!=1.25.1,<1.26,>=1.21.1 in /localscratch/guest160.680.0/lib/python3.7/site-packages (from requests<3,>=2.21.0->tensorboard<2.1.0,>=2.0.0->tensorflow_gpu) (1.25.7)\n",
      "Requirement already satisfied: certifi>=2017.4.17 in /localscratch/guest160.680.0/lib/python3.7/site-packages (from requests<3,>=2.21.0->tensorboard<2.1.0,>=2.0.0->tensorflow_gpu) (2019.11.28)\n",
      "Collecting requests-oauthlib>=0.7.0 (from google-auth-oauthlib<0.5,>=0.4.1->tensorboard<2.1.0,>=2.0.0->tensorflow_gpu)\n",
      "Collecting pyasn1>=0.1.3 (from rsa<4.1,>=3.1.4->google-auth<2,>=1.6.3->tensorboard<2.1.0,>=2.0.0->tensorflow_gpu)\n",
      "Collecting oauthlib>=3.0.0 (from requests-oauthlib>=0.7.0->google-auth-oauthlib<0.5,>=0.4.1->tensorboard<2.1.0,>=2.0.0->tensorflow_gpu)\n",
      "\u001b[31mtensorboard 2.0.2 has requirement setuptools>=41.0.0, but you'll have setuptools 40.8.0 which is incompatible.\u001b[0m\n",
      "Installing collected packages: termcolor, protobuf, cachetools, pyasn1, rsa, pyasn1-modules, google-auth, oauthlib, requests-oauthlib, google-auth-oauthlib, markdown, werkzeug, tensorboard, keras-preprocessing, tensorflow-gpu\n",
      "Successfully installed cachetools-3.1.1 google-auth-1.8.1 google-auth-oauthlib-0.4.1 keras-preprocessing-1.1.0 markdown-3.1.1 oauthlib-3.1.0 protobuf-3.11.2 pyasn1-0.4.8 pyasn1-modules-0.2.7 requests-oauthlib-1.3.0 rsa-4.0 tensorboard-2.0.2 tensorflow-gpu-2.0.0 termcolor-1.1.0 werkzeug-0.16.0\n"
     ]
    }
   ],
   "source": [
    "!pip install tensorflow_gpu --no-index "
   ]
  },
  {
   "cell_type": "code",
   "execution_count": 5,
   "metadata": {},
   "outputs": [],
   "source": [
    "import tensorflow as tf"
   ]
  },
  {
   "cell_type": "code",
   "execution_count": null,
   "metadata": {},
   "outputs": [],
   "source": []
  }
 ],
 "metadata": {
  "kernelspec": {
   "display_name": "Python 3",
   "language": "python",
   "name": "python3"
  },
  "language_info": {
   "codemirror_mode": {
    "name": "ipython",
    "version": 3
   },
   "file_extension": ".py",
   "mimetype": "text/x-python",
   "name": "python",
   "nbconvert_exporter": "python",
   "pygments_lexer": "ipython3",
   "version": "3.7.4"
  }
 },
 "nbformat": 4,
 "nbformat_minor": 4
}
